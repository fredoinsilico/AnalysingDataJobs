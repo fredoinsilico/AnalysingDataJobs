{
 "cells": [
  {
   "cell_type": "code",
   "execution_count": null,
   "metadata": {},
   "outputs": [],
   "source": [
    "# Hola Analizando Usa Data"
   ]
  }
 ],
 "metadata": {
  "kernelspec": {
   "display_name": "Python 3",
   "language": "python",
   "name": "python3"
  },
  "language_info": {
   "name": "python",
   "version": "3.11.1"
  },
  "orig_nbformat": 4,
  "vscode": {
   "interpreter": {
    "hash": "369b54a65cc1038ee89fd422cebb34534d796fd368886dda9f94dc070a5aa604"
   }
  }
 },
 "nbformat": 4,
 "nbformat_minor": 2
}

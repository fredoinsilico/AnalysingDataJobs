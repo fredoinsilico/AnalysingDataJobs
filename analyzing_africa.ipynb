{
 "cells": [
  {
   "attachments": {},
   "cell_type": "markdown",
   "metadata": {},
   "source": [
    "## HERE WE ARE ONLY ANALYZING DATA FROM AFRICA ##"
   ]
  },
  {
   "cell_type": "code",
   "execution_count": null,
   "metadata": {},
   "outputs": [],
   "source": [
    "import pandas as pd\n",
    "import numpy as np\n",
    "import matplotlib.pyplot as plt\n",
    "import seaborn as sns\n",
    "\n",
    "\n",
    "df = pd.read_csv('./DataSets/linkedin-jobs-africa.csv')\n",
    "df.head(2)\n",
    "\n"
   ]
  },
  {
   "cell_type": "code",
   "execution_count": null,
   "metadata": {},
   "outputs": [],
   "source": [
    "df.shape\n"
   ]
  },
  {
   "cell_type": "code",
   "execution_count": null,
   "metadata": {},
   "outputs": [],
   "source": [
    "# localizacion = df['location']\n",
    "# len(localizacion)\n",
    "\n",
    "df.isna().sum()\n"
   ]
  },
  {
   "cell_type": "code",
   "execution_count": null,
   "metadata": {},
   "outputs": [],
   "source": [
    "print(df[\"onsite_remote\"].unique())"
   ]
  },
  {
   "attachments": {},
   "cell_type": "markdown",
   "metadata": {},
   "source": [
    "# Obtenemos la cantidad de puestos trabajo enfocados en las 3 categorias Onsite|Remote|Hybrid"
   ]
  },
  {
   "cell_type": "code",
   "execution_count": null,
   "metadata": {},
   "outputs": [],
   "source": [
    "c = sns.countplot(y='onsite_remote', data=df)\n",
    "c.set_xlabel('cantidad de ofertas de trabajo') # Capturamos el grafico para renombrarlo\n",
    "c.set_ylabel('Tipo de Trabajo')\n",
    "plt.show()"
   ]
  },
  {
   "cell_type": "code",
   "execution_count": null,
   "metadata": {},
   "outputs": [],
   "source": [
    "# Conteo de tipos de trabajo\n",
    "counts = df[\"onsite_remote\"].value_counts()\n",
    "counts"
   ]
  },
  {
   "attachments": {},
   "cell_type": "markdown",
   "metadata": {},
   "source": [
    "# Empresas que ofrecen mayores puestos de trabajo #"
   ]
  },
  {
   "cell_type": "code",
   "execution_count": null,
   "metadata": {},
   "outputs": [],
   "source": [
    "top_10 = df['company'].value_counts().head(10)\n",
    "top_10_df = pd.DataFrame({'company': top_10.index, 'count': top_10.values})\n",
    "c = sns.barplot(y='company', x='count', data=top_10_df)\n",
    "c.set_xlabel('cantidad de ofertas de trabajo') # Capturamos el grafico para renombrarlo\n",
    "c.set_ylabel('Empresas')\n",
    "plt.show()"
   ]
  },
  {
   "cell_type": "code",
   "execution_count": null,
   "metadata": {},
   "outputs": [],
   "source": [
    "# Selecciona las 10 empresas más frecuentes\n",
    "top_10 = df['company'].value_counts().head(10)\n",
    "\n",
    "# Crea un nuevo dataframe solo con las 10 empresas seleccionadas\n",
    "df_top_10 = df.loc[df['company'].isin(top_10.index)]\n",
    "\n",
    "# Cuenta el número de ofertas de trabajo online, remota e híbrida para cada empresa\n",
    "counts = df_top_10.loc[df_top_10['onsite_remote'].isin(['online', 'remote', 'hybrid'])].groupby('company')['onsite_remote'].value_counts()\n",
    "\n",
    "# Muestra los resultados\n",
    "print(counts)\n",
    "\n"
   ]
  },
  {
   "attachments": {},
   "cell_type": "markdown",
   "metadata": {},
   "source": [
    "# Comparando Tipos de trabajo en Empresas de Africa  #"
   ]
  },
  {
   "cell_type": "code",
   "execution_count": null,
   "metadata": {},
   "outputs": [],
   "source": [
    "\n",
    "\n",
    "# Selecciona las 10 empresas más frecuentes\n",
    "top_10 = df['company'].value_counts().head(10)\n",
    "\n",
    "# Crea un nuevo dataframe solo con las 10 empresas seleccionadas\n",
    "df_top_10 = df.loc[df['company'].isin(top_10.index)]\n",
    "\n",
    "# Filtra las ofertas de trabajo que se realizan en línea, remotamente o de forma híbrida\n",
    "df_filtered = df_top_10.loc[df_top_10['onsite_remote'].isin(['onsite', 'remote', 'hybrid'])]\n",
    "\n",
    "# Cuenta el número de ofertas de trabajo online, remota e híbrida para cada empresa\n",
    "counts = df_filtered.groupby(['company', 'onsite_remote']).size().reset_index(name='count')\n",
    "\n",
    "# Crea un gráfico de barras utilizando Seaborn\n",
    "sns.set_style(\"whitegrid\")\n",
    "ax = sns.barplot(x='company', y='count', hue='onsite_remote', data=counts, palette=sns.color_palette('bright', n_colors=3))\n",
    "\n",
    "# Rotar etiquetas del eje x\n",
    "ax.set_xticklabels(ax.get_xticklabels(), rotation=90)\n",
    "\n",
    "# Muestra el gráfico\n",
    "plt.show()\n"
   ]
  },
  {
   "cell_type": "code",
   "execution_count": null,
   "metadata": {},
   "outputs": [],
   "source": [
    "import pandas as pd\n",
    "import seaborn as sns\n",
    "import matplotlib.pyplot as plt\n",
    "\n",
    "# Selecciona las 10 empresas más frecuentes\n",
    "top_10 = df['company'].value_counts().head(10)\n",
    "\n",
    "# Crea un nuevo dataframe solo con las 10 empresas seleccionadas\n",
    "df_top_10 = df.loc[df['company'].isin(top_10.index)]\n",
    "\n",
    "# Filtra las ofertas de trabajo que se realizan en línea, remotamente o de forma híbrida\n",
    "df_filtered = df_top_10.loc[df_top_10['onsite_remote'].isin(['onsite', 'remote', 'hybrid'])]\n",
    "\n",
    "# Cuenta el número de ofertas de trabajo online, remota e híbrida para cada empresa\n",
    "counts = df_filtered.groupby(['company', 'onsite_remote']).size().reset_index(name='count')\n",
    "\n",
    "# Crea un gráfico de barras agrupadas utilizando Seaborn\n",
    "sns.set_style(\"whitegrid\")\n",
    "sns.barplot(x='company', y='count', hue='onsite_remote', data=counts, palette=sns.color_palette('bright', n_colors=3), alpha=0.8)\n",
    "\n",
    "# Agrega título y etiquetas de los ejes\n",
    "plt.title('Distribución del tipo de empleo ofrecido por las 10 mayores empresas')\n",
    "plt.xlabel('Empresa')\n",
    "plt.ylabel('Cantidad')\n",
    "plt.xticks(rotation=90)\n",
    "# Muestra el gráfico\n",
    "plt.show()\n",
    "\n",
    "\n"
   ]
  },
  {
   "cell_type": "code",
   "execution_count": null,
   "metadata": {},
   "outputs": [],
   "source": [
    "import pandas as pd\n",
    "import seaborn as sns\n",
    "import matplotlib.pyplot as plt\n",
    "\n",
    "# Selecciona las 10 empresas más frecuentes\n",
    "top_10 = df['company'].value_counts().head(5)\n",
    "\n",
    "# Crea un nuevo dataframe solo con las 10 empresas seleccionadas\n",
    "df_top_10 = df.loc[df['company'].isin(top_10.index)]\n",
    "\n",
    "# Filtra las ofertas de trabajo que se realizan en línea, remotamente o de forma híbrida\n",
    "df_filtered = df_top_10.loc[df_top_10['onsite_remote'].isin(['onsite', 'remote', 'hybrid'])]\n",
    "\n",
    "# Cuenta el número de ofertas de trabajo online, remota e híbrida para cada empresa\n",
    "counts = df_filtered.groupby(['company', 'onsite_remote']).size().reset_index(name='count')\n",
    "\n",
    "# Crea un gráfico de barras agrupadas utilizando Seaborn\n",
    "sns.set_style(\"whitegrid\")\n",
    "sns.barplot(x='company', y='count', hue='onsite_remote', data=counts, palette=sns.color_palette('bright', n_colors=3), alpha=0.8, width=0.8)\n",
    "\n",
    "# Agrega título y etiquetas de los ejes\n",
    "plt.title('Tipo de empleo ofrecido por las 5 mayores empresas de Africa')\n",
    "plt.xlabel('Empresa')\n",
    "plt.ylabel('Cantidad')\n",
    "\n",
    "# Coloca los nombres de las empresas en el eje x en vertical\n",
    "plt.xticks(rotation=90)\n",
    "\n",
    "# Muestra el gráfico\n",
    "plt.show()\n"
   ]
  },
  {
   "attachments": {},
   "cell_type": "markdown",
   "metadata": {},
   "source": [
    "# Comparando empresas de Africa con las fechas # "
   ]
  },
  {
   "cell_type": "code",
   "execution_count": null,
   "metadata": {},
   "outputs": [],
   "source": [
    "df['posted_date'].unique()"
   ]
  },
  {
   "cell_type": "code",
   "execution_count": null,
   "metadata": {},
   "outputs": [],
   "source": [
    "df['posted_date'] = pd.to_datetime(df['posted_date'])\n",
    "df.groupby(df['posted_date'].dt.month).count()\n"
   ]
  },
  {
   "cell_type": "code",
   "execution_count": null,
   "metadata": {},
   "outputs": [],
   "source": [
    "\n",
    "import matplotlib.pyplot as plt\n",
    "\n",
    "df['posted_date'] = pd.to_datetime(df['posted_date'])\n",
    "df['posted_date'].dt.month.value_counts().sort_index().plot(kind='bar')\n",
    "plt.xlabel('Meses del 2022')\n",
    "plt.ylabel('Cantidad de puestos')\n",
    "plt.title('Puestos por cada mes')\n",
    "plt.show()\n",
    "\n"
   ]
  },
  {
   "attachments": {},
   "cell_type": "markdown",
   "metadata": {},
   "source": [
    "# Haciendo un analisis y ETL para Paises"
   ]
  },
  {
   "cell_type": "code",
   "execution_count": null,
   "metadata": {},
   "outputs": [],
   "source": [
    "# Extraemos de la columna location en otra columna llamada 'country' los paises que estan escritos \n",
    "# luego de la coma para una dividion n=1\n",
    "df['country'] = df['location'].str.rsplit(',', n=1, expand=True)[1].str.strip()\n",
    "# Si no encuentra comas agrega todo el valor a la nueva columna country\n",
    "df.loc[df['country'].isna(), 'country'] = df['location'].str.strip()\n",
    "df.tail(50)\n"
   ]
  },
  {
   "cell_type": "code",
   "execution_count": null,
   "metadata": {},
   "outputs": [],
   "source": [
    "# Aqui observamos la cantidad de valores que existe en la columna country\n",
    "unique_countries = df['country'].unique().tolist()\n",
    "unique_countries # Observamos que hay 2 que no son un pais estrictamente 'Johannesburg Metropolitan Area' y 'Eastern Africa'"
   ]
  },
  {
   "cell_type": "code",
   "execution_count": null,
   "metadata": {},
   "outputs": [],
   "source": [
    "# Reemplazamos el valor Johannesburg Metropolitan Area con el de su pais\n",
    "# Respecto a Eastern Africa, lo analizaremos de esta manera\n",
    "df['country'] = df['country'].replace('Johannesburg Metropolitan Area', 'South Africa')\n"
   ]
  },
  {
   "cell_type": "code",
   "execution_count": null,
   "metadata": {},
   "outputs": [],
   "source": [
    "# Volvemos a contar los valores que ahora existen en 'country'\n",
    "unique_countries = df['country'].unique().tolist()\n",
    "unique_countries"
   ]
  },
  {
   "cell_type": "code",
   "execution_count": 10,
   "metadata": {},
   "outputs": [
    {
     "data": {
      "image/png": "[encoded data removed]",
      "text/plain": [
       "<Figure size 640x480 with 1 Axes>"
      ]
     },
     "metadata": {},
     "output_type": "display_data"
    }
   ],
   "source": [
    "# Con esta informacion tenemos info sobre cuantos puestos de trabajo se han lanzado por pais\n",
    "\n",
    "country_counts = df['country'].value_counts().sort_values(ascending=False)\n",
    "\n",
    "# Crear el gráfico utilizando los valores ordenados\n",
    "c = sns.countplot(y='country', data=df, order=country_counts.index)\n",
    "\n",
    "c.set_xlabel('Cantidad de ofertas de trabajo')\n",
    "c.set_ylabel('Pais')\n",
    "plt.show()\n"
   ]
  },
  {
   "attachments": {},
   "cell_type": "markdown",
   "metadata": {},
   "source": [
    "# Haciendo un ETL a la columna de criterio"
   ]
  },
  {
   "cell_type": "code",
   "execution_count": null,
   "metadata": {},
   "outputs": [],
   "source": [
    "df.tail(4)"
   ]
  },
  {
   "cell_type": "code",
   "execution_count": null,
   "metadata": {},
   "outputs": [],
   "source": [
    "unique_countries = df['criteria'].unique().tolist()\n",
    "len(unique_countries)"
   ]
  },
  {
   "cell_type": "code",
   "execution_count": null,
   "metadata": {},
   "outputs": [],
   "source": [
    "import langid\n",
    "from googletrans import Translator\n",
    "\n",
    "translator = Translator()\n",
    "\n",
    "def translate_if_arabic(text):\n",
    "    try:\n",
    "\n",
    "        lang, _ = langid.classify(text)\n",
    "        if lang == 'ar':\n",
    "            return translator.translate(text, dest='en').text\n",
    "        else:\n",
    "            return text\n",
    "    except: \n",
    "        print(text)\n",
    "# Aplicamos la función a la columna 'nombre_columna'\n",
    "\n",
    "df['criteria_english'] = df['criteria'].apply(translate_if_arabic)\n"
   ]
  },
  {
   "cell_type": "code",
   "execution_count": null,
   "metadata": {},
   "outputs": [],
   "source": []
  },
  {
   "cell_type": "code",
   "execution_count": null,
   "metadata": {},
   "outputs": [],
   "source": [
    "import langdetect\n",
    "\n",
    "# Supongamos que tienes una columna llamada 'texto'\n",
    "idiomas_detectados = df['criteria'].apply(lambda x: langdetect.detect_langs(x)[0].lang).unique()\n",
    "\n",
    "print(idiomas_detectados)\n"
   ]
  },
  {
   "cell_type": "code",
   "execution_count": null,
   "metadata": {},
   "outputs": [],
   "source": [
    "# Aqui veremos la columna de criteria\n",
    "\n",
    "import ast\n",
    "ast.literal_eval(df['criteria'][0])"
   ]
  }
 ],
 "metadata": {
  "kernelspec": {
   "display_name": "Python 3",
   "language": "python",
   "name": "python3"
  },
  "language_info": {
   "codemirror_mode": {
    "name": "ipython",
    "version": 3
   },
   "file_extension": ".py",
   "mimetype": "text/x-python",
   "name": "python",
   "nbconvert_exporter": "python",
   "pygments_lexer": "ipython3",
   "version": "3.10.5"
  },
  "orig_nbformat": 4,
  "vscode": {
   "interpreter": {
    "hash": "3eb06009a151591584a8e64b076b6e8b9584003a8eff826d2bd74c5ffbf9e972"
   }
  }
 },
 "nbformat": 4,
 "nbformat_minor": 2
}

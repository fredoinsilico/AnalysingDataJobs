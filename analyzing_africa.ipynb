{
 "cells": [
  {
   "attachments": {},
   "cell_type": "markdown",
   "metadata": {},
   "source": [
    "# ONLY DATA FROM AFRICA EDA and ETL ##"
   ]
  },
  {
   "attachments": {},
   "cell_type": "markdown",
   "metadata": {},
   "source": [
    "#### IMPORTING DATA"
   ]
  },
  {
   "cell_type": "code",
   "execution_count": 2,
   "metadata": {},
   "outputs": [],
   "source": [
    "import pandas as pd\n",
    "import matplotlib.pyplot as plt\n",
    "import seaborn as sns\n",
    "\n",
    "df = pd.read_csv('./DataSets/linkedin-jobs-africa.csv')\n"
   ]
  },
  {
   "attachments": {},
   "cell_type": "markdown",
   "metadata": {},
   "source": [
    "## EDA (Exploratory Data Analysis)\n",
    "#### * Part 1 - General #"
   ]
  },
  {
   "cell_type": "code",
   "execution_count": null,
   "metadata": {},
   "outputs": [],
   "source": [
    "# Rows and Columns\n",
    "print(f'\\n - Number of rows is {df.shape[0]} and the numbers of columns is {df.shape[1]} \\n')\n",
    "# Column Names\n",
    "a = list(df.columns.values)\n",
    "print(f'- The column names are : {a} \\n')\n",
    "# Data Types\n",
    "print(f'Column name: \\t  datatype:')\n",
    "print(df.dtypes)\n",
    "# Describe\n",
    "print(' \\n')\n",
    "print(f'-Describe \\n\\n {df.describe()} \\n')\n",
    "# Null Values\n",
    "print(f' - Nulls\\n\\n{df.isna().sum()}')\n",
    "# head 2\n",
    "print(df.head())"
   ]
  },
  {
   "attachments": {},
   "cell_type": "markdown",
   "metadata": {},
   "source": [
    "## EDA (Exploratory Data Analysis)\n",
    "####  * Part 2 - Particular and Graphics"
   ]
  },
  {
   "attachments": {},
   "cell_type": "markdown",
   "metadata": {},
   "source": [
    "#### *Unique values per column*"
   ]
  },
  {
   "cell_type": "code",
   "execution_count": null,
   "metadata": {},
   "outputs": [],
   "source": [
    "print(f'\\n This is a table showing unique values per column: \\n')\n",
    "\n",
    "table_uniques = pd.DataFrame({'unique': [df[\"title\"].nunique(), df[\"company\"].nunique(), df[\"description\"].nunique(),\n",
    "                              df[\"onsite_remote\"].nunique(),df[\"salary\"].nunique(), df[\"location\"].nunique(),\n",
    "                                df[\"criteria\"].nunique(), df[\"posted_date\"].nunique()]},\n",
    "            \n",
    "                  index=['title', 'company', 'description', 'onsite_remote', 'salary',\n",
    "                         'location', 'criteria', 'posted_date'])\n",
    "table_uniques\n"
   ]
  },
  {
   "attachments": {},
   "cell_type": "markdown",
   "metadata": {},
   "source": [
    "##### *We obtain the number of job positions focused on the three categories*\n",
    "##### *-> Onsite|Remote|Hybrid*"
   ]
  },
  {
   "cell_type": "code",
   "execution_count": null,
   "metadata": {},
   "outputs": [],
   "source": [
    "plt.figure(figsize=(4, 2)) # Adjusting the graphic size (4 x 2 inches)\n",
    "c = sns.countplot(x='onsite_remote', data=df)\n",
    "c.set_xlabel('Job Positions counts')\n",
    "c.set_ylabel('Counts')\n",
    "print('\\n')\n",
    "plt.show()"
   ]
  },
  {
   "attachments": {},
   "cell_type": "markdown",
   "metadata": {},
   "source": [
    "#### a. TOP 10 Companies that offer a greater number of job positions"
   ]
  },
  {
   "cell_type": "code",
   "execution_count": null,
   "metadata": {},
   "outputs": [],
   "source": [
    "top_10 = df['company'].value_counts().head(10)\n",
    "top_10_df = pd.DataFrame({'company': top_10.index, 'count': top_10.values})\n",
    "plt.figure(figsize=(4, 2))\n",
    "c = sns.barplot(y='company', x='count', data=top_10_df)\n",
    "c.set_xlabel('Job Position Counts') # Capturamos el grafico para renombrarlo\n",
    "c.set_ylabel('Companies')\n",
    "print('\\n')\n",
    "plt.show()"
   ]
  },
  {
   "attachments": {},
   "cell_type": "markdown",
   "metadata": {},
   "source": [
    "#### b. TOP 10 Companies that offer a greater number of job positions in REMOTE "
   ]
  },
  {
   "cell_type": "code",
   "execution_count": null,
   "metadata": {},
   "outputs": [],
   "source": [
    "# Obtener el número de trabajos remotos para cada empresa\n",
    "remote_jobs = df[df['onsite_remote'] == 'remote']['company'].value_counts()\n",
    "\n",
    "# Obtener las 10 empresas con más trabajos remotos y ordenarlas por número de trabajos remotos\n",
    "top_remote_companies = remote_jobs.head(10).sort_values(ascending=False)\n",
    "\n",
    "# Crear un gráfico de barras horizontales que muestre el número de trabajos remotos por empresa\n",
    "plt.figure(figsize=(4, 2)) # Definir el tamaño de la figura\n",
    "colors = plt.cm.Set2(range(len(top_remote_companies))) # Colores diferentes para cada barra\n",
    "plt.barh(top_remote_companies.index, top_remote_companies.values, color=colors)\n",
    "plt.title('Top 10 Remote Companies')\n",
    "plt.xlabel('Remote positions')\n",
    "plt.ylabel('Companies')\n",
    "plt.gca().invert_yaxis() # Invertir el orden de las empresas en el eje y\n",
    "print('\\n')\n",
    "plt.show()\n",
    "\n"
   ]
  },
  {
   "attachments": {},
   "cell_type": "markdown",
   "metadata": {},
   "source": [
    "#### c. TOP 10 Companies that offer a greater number of job positions in ONSITE"
   ]
  },
  {
   "cell_type": "code",
   "execution_count": null,
   "metadata": {},
   "outputs": [],
   "source": [
    "# Obtener el número de trabajos remotos para cada empresa\n",
    "remote_jobs = df[df['onsite_remote'] == 'onsite']['company'].value_counts()\n",
    "\n",
    "# Obtener las 10 empresas con más trabajos remotos y ordenarlas por número de trabajos remotos\n",
    "top_remote_companies = remote_jobs.head(10).sort_values(ascending=False)\n",
    "\n",
    "# Crear un gráfico de barras horizontales que muestre el número de trabajos remotos por empresa\n",
    "plt.figure(figsize=(4, 2)) # Definir el tamaño de la figura\n",
    "colors = plt.cm.Set2(range(len(top_remote_companies))) # Colores diferentes para cada barra\n",
    "plt.barh(top_remote_companies.index, top_remote_companies.values, color=colors)\n",
    "plt.title('Top 10 ONSITE Companies')\n",
    "plt.xlabel('Onsite positions')\n",
    "plt.ylabel('Companies')\n",
    "plt.gca().invert_yaxis() # Invertir el orden de las empresas en el eje y\n",
    "print('\\n')\n",
    "plt.show()"
   ]
  },
  {
   "attachments": {},
   "cell_type": "markdown",
   "metadata": {},
   "source": [
    "#### d. TOP 10 Companies that offer a greater number of job positions in HYBRID"
   ]
  },
  {
   "cell_type": "code",
   "execution_count": null,
   "metadata": {},
   "outputs": [],
   "source": [
    "# Obtener el número de trabajos remotos para cada empresa\n",
    "remote_jobs = df[df['onsite_remote'] == 'hybrid']['company'].value_counts()\n",
    "\n",
    "# Obtener las 10 empresas con más trabajos remotos y ordenarlas por número de trabajos remotos\n",
    "top_remote_companies = remote_jobs.head(10).sort_values(ascending=False)\n",
    "\n",
    "# Crear un gráfico de barras horizontales que muestre el número de trabajos remotos por empresa\n",
    "plt.figure(figsize=(4, 2)) # Definir el tamaño de la figura\n",
    "colors = plt.cm.Set2(range(len(top_remote_companies))) # Colores diferentes para cada barra\n",
    "plt.barh(top_remote_companies.index, top_remote_companies.values, color=colors)\n",
    "plt.title('Top 10 HYBRID Companies')\n",
    "plt.xlabel('Onsite positions')\n",
    "plt.ylabel('Companies')\n",
    "plt.gca().invert_yaxis() # Invertir el orden de las empresas en el eje y\n",
    "print('\\n')\n",
    "plt.show()"
   ]
  },
  {
   "attachments": {},
   "cell_type": "markdown",
   "metadata": {},
   "source": [
    "## ETL (Extract, Transform and Load)"
   ]
  },
  {
   "attachments": {},
   "cell_type": "markdown",
   "metadata": {},
   "source": [
    "#### *DATE*"
   ]
  },
  {
   "cell_type": "code",
   "execution_count": 3,
   "metadata": {},
   "outputs": [
    {
     "name": "stdout",
     "output_type": "stream",
     "text": [
      "title                    object\n",
      "company                  object\n",
      "description              object\n",
      "onsite_remote            object\n",
      "salary                  float64\n",
      "location                 object\n",
      "criteria                 object\n",
      "posted_date      datetime64[ns]\n",
      "link                     object\n",
      "dtype: object\n"
     ]
    }
   ],
   "source": [
    "df['posted_date'].unique()\n",
    "df['posted_date'] = pd.to_datetime(df['posted_date'], format='%Y-%m-%d')\n",
    "print(df.dtypes)"
   ]
  },
  {
   "cell_type": "code",
   "execution_count": 4,
   "metadata": {},
   "outputs": [
    {
     "data": {
      "text/html": [
       "<div>\n",
       "<style scoped>\n",
       "    .dataframe tbody tr th:only-of-type {\n",
       "        vertical-align: middle;\n",
       "    }\n",
       "\n",
       "    .dataframe tbody tr th {\n",
       "        vertical-align: top;\n",
       "    }\n",
       "\n",
       "    .dataframe thead th {\n",
       "        text-align: right;\n",
       "    }\n",
       "</style>\n",
       "<table border=\"1\" class=\"dataframe\">\n",
       "  <thead>\n",
       "    <tr style=\"text-align: right;\">\n",
       "      <th></th>\n",
       "      <th>title</th>\n",
       "      <th>company</th>\n",
       "      <th>description</th>\n",
       "      <th>onsite_remote</th>\n",
       "      <th>salary</th>\n",
       "      <th>location</th>\n",
       "      <th>criteria</th>\n",
       "      <th>posted_date</th>\n",
       "      <th>link</th>\n",
       "    </tr>\n",
       "    <tr>\n",
       "      <th>posted_date</th>\n",
       "      <th></th>\n",
       "      <th></th>\n",
       "      <th></th>\n",
       "      <th></th>\n",
       "      <th></th>\n",
       "      <th></th>\n",
       "      <th></th>\n",
       "      <th></th>\n",
       "      <th></th>\n",
       "    </tr>\n",
       "  </thead>\n",
       "  <tbody>\n",
       "    <tr>\n",
       "      <th>8</th>\n",
       "      <td>3</td>\n",
       "      <td>3</td>\n",
       "      <td>3</td>\n",
       "      <td>3</td>\n",
       "      <td>0</td>\n",
       "      <td>3</td>\n",
       "      <td>3</td>\n",
       "      <td>3</td>\n",
       "      <td>3</td>\n",
       "    </tr>\n",
       "    <tr>\n",
       "      <th>9</th>\n",
       "      <td>36</td>\n",
       "      <td>36</td>\n",
       "      <td>36</td>\n",
       "      <td>36</td>\n",
       "      <td>0</td>\n",
       "      <td>36</td>\n",
       "      <td>36</td>\n",
       "      <td>36</td>\n",
       "      <td>36</td>\n",
       "    </tr>\n",
       "    <tr>\n",
       "      <th>10</th>\n",
       "      <td>687</td>\n",
       "      <td>687</td>\n",
       "      <td>687</td>\n",
       "      <td>687</td>\n",
       "      <td>0</td>\n",
       "      <td>687</td>\n",
       "      <td>687</td>\n",
       "      <td>687</td>\n",
       "      <td>687</td>\n",
       "    </tr>\n",
       "    <tr>\n",
       "      <th>11</th>\n",
       "      <td>2146</td>\n",
       "      <td>2146</td>\n",
       "      <td>2146</td>\n",
       "      <td>2146</td>\n",
       "      <td>0</td>\n",
       "      <td>2146</td>\n",
       "      <td>2146</td>\n",
       "      <td>2146</td>\n",
       "      <td>2146</td>\n",
       "    </tr>\n",
       "  </tbody>\n",
       "</table>\n",
       "</div>"
      ],
      "text/plain": [
       "             title  company  description  onsite_remote  salary  location  \\\n",
       "posted_date                                                                 \n",
       "8                3        3            3              3       0         3   \n",
       "9               36       36           36             36       0        36   \n",
       "10             687      687          687            687       0       687   \n",
       "11            2146     2146         2146           2146       0      2146   \n",
       "\n",
       "             criteria  posted_date  link  \n",
       "posted_date                               \n",
       "8                   3            3     3  \n",
       "9                  36           36    36  \n",
       "10                687          687   687  \n",
       "11               2146         2146  2146  "
      ]
     },
     "execution_count": 4,
     "metadata": {},
     "output_type": "execute_result"
    }
   ],
   "source": [
    "df['posted_date'] = pd.to_datetime(df['posted_date'])\n",
    "df.groupby(df['posted_date'].dt.month).count()\n"
   ]
  },
  {
   "cell_type": "code",
   "execution_count": 6,
   "metadata": {},
   "outputs": [
    {
     "data": {
      "image/png": "[encoded data removed]",
      "text/plain": [
       "<Figure size 640x480 with 1 Axes>"
      ]
     },
     "metadata": {},
     "output_type": "display_data"
    }
   ],
   "source": [
    "\n",
    "import matplotlib.pyplot as plt\n",
    "\n",
    "df['posted_date'] = pd.to_datetime(df['posted_date'])\n",
    "df['posted_date'].dt.month.value_counts().sort_index().plot(kind='bar')\n",
    "plt.xlabel('Month 2022')\n",
    "plt.ylabel('Counts')\n",
    "plt.title('Job Position x month')\n",
    "plt.show()\n",
    "\n"
   ]
  },
  {
   "attachments": {},
   "cell_type": "markdown",
   "metadata": {},
   "source": [
    "# Haciendo un analisis y ETL para Paises"
   ]
  },
  {
   "cell_type": "code",
   "execution_count": null,
   "metadata": {},
   "outputs": [],
   "source": [
    "# Extraemos de la columna location en otra columna llamada 'country' los paises que estan escritos \n",
    "# luego de la coma para una dividion n=1\n",
    "df['country'] = df['location'].str.rsplit(',', n=1, expand=True)[1].str.strip()\n",
    "# Si no encuentra comas agrega todo el valor a la nueva columna country\n",
    "df.loc[df['country'].isna(), 'country'] = df['location'].str.strip()\n",
    "df.tail(50)\n"
   ]
  },
  {
   "cell_type": "code",
   "execution_count": null,
   "metadata": {},
   "outputs": [],
   "source": [
    "# Aqui observamos la cantidad de valores que existe en la columna country\n",
    "unique_countries = df['country'].unique().tolist()\n",
    "unique_countries # Observamos que hay 2 que no son un pais estrictamente 'Johannesburg Metropolitan Area' y 'Eastern Africa'"
   ]
  },
  {
   "cell_type": "code",
   "execution_count": null,
   "metadata": {},
   "outputs": [],
   "source": [
    "# Reemplazamos el valor Johannesburg Metropolitan Area con el de su pais\n",
    "# Respecto a Eastern Africa, lo analizaremos de esta manera\n",
    "df['country'] = df['country'].replace('Johannesburg Metropolitan Area', 'South Africa')\n"
   ]
  },
  {
   "cell_type": "code",
   "execution_count": null,
   "metadata": {},
   "outputs": [],
   "source": [
    "# Volvemos a contar los valores que ahora existen en 'country'\n",
    "unique_countries = df['country'].unique().tolist()\n",
    "unique_countries"
   ]
  },
  {
   "cell_type": "code",
   "execution_count": null,
   "metadata": {},
   "outputs": [],
   "source": [
    "# Con esta informacion tenemos info sobre cuantos puestos de trabajo se han lanzado por pais\n",
    "\n",
    "country_counts = df['country'].value_counts().sort_values(ascending=False)\n",
    "\n",
    "# Crear el gráfico utilizando los valores ordenados\n",
    "c = sns.countplot(y='country', data=df, order=country_counts.index)\n",
    "\n",
    "c.set_xlabel('Cantidad de ofertas de trabajo')\n",
    "c.set_ylabel('Pais')\n",
    "plt.show()\n"
   ]
  },
  {
   "attachments": {},
   "cell_type": "markdown",
   "metadata": {},
   "source": [
    "# Haciendo un ETL a la columna de criterio"
   ]
  },
  {
   "cell_type": "code",
   "execution_count": null,
   "metadata": {},
   "outputs": [],
   "source": [
    "df.tail(4)"
   ]
  },
  {
   "cell_type": "code",
   "execution_count": null,
   "metadata": {},
   "outputs": [],
   "source": [
    "unique_countries = df['criteria'].unique().tolist()\n",
    "len(unique_countries)"
   ]
  },
  {
   "cell_type": "code",
   "execution_count": null,
   "metadata": {},
   "outputs": [],
   "source": [
    "import langid\n",
    "from googletrans import Translator\n",
    "\n",
    "translator = Translator()\n",
    "\n",
    "def translate_if_arabic(text):\n",
    "    try:\n",
    "\n",
    "        lang, _ = langid.classify(text)\n",
    "        if lang == 'ar':\n",
    "            return translator.translate(text, dest='en').text\n",
    "        else:\n",
    "            return text\n",
    "    except: \n",
    "        print(text)\n",
    "# Aplicamos la función a la columna 'nombre_columna'\n",
    "\n",
    "df['criteria_english'] = df['criteria'].apply(translate_if_arabic)\n"
   ]
  },
  {
   "cell_type": "code",
   "execution_count": null,
   "metadata": {},
   "outputs": [],
   "source": []
  },
  {
   "cell_type": "code",
   "execution_count": null,
   "metadata": {},
   "outputs": [],
   "source": [
    "import langdetect\n",
    "\n",
    "# Supongamos que tienes una columna llamada 'texto'\n",
    "idiomas_detectados = df['criteria'].apply(lambda x: langdetect.detect_langs(x)[0].lang).unique()\n",
    "\n",
    "print(idiomas_detectados)\n"
   ]
  },
  {
   "cell_type": "code",
   "execution_count": null,
   "metadata": {},
   "outputs": [],
   "source": [
    "# Aqui veremos la columna de criteria\n",
    "\n",
    "import ast\n",
    "ast.literal_eval(df['criteria'][0])"
   ]
  }
 ],
 "metadata": {
  "kernelspec": {
   "display_name": "Python 3",
   "language": "python",
   "name": "python3"
  },
  "language_info": {
   "codemirror_mode": {
    "name": "ipython",
    "version": 3
   },
   "file_extension": ".py",
   "mimetype": "text/x-python",
   "name": "python",
   "nbconvert_exporter": "python",
   "pygments_lexer": "ipython3",
   "version": "3.10.5"
  },
  "orig_nbformat": 4,
  "vscode": {
   "interpreter": {
    "hash": "3eb06009a151591584a8e64b076b6e8b9584003a8eff826d2bd74c5ffbf9e972"
   }
  }
 },
 "nbformat": 4,
 "nbformat_minor": 2
}

{
 "cells": [
  {
   "cell_type": "code",
   "execution_count": 25,
   "metadata": {},
   "outputs": [
    {
     "data": {
      "text/plain": [
       "title                                                 Data Analyst\n",
       "company                                                     PayPal\n",
       "description      At PayPal (NASDAQ: PYPL), we believe that ever...\n",
       "onsite_remote                                               onsite\n",
       "salary                                                         NaN\n",
       "location                                   Virginia, United States\n",
       "criteria         [{'Seniority level': 'Not Applicable'}, {'Empl...\n",
       "posted_date                                             2022-11-17\n",
       "link             https://www.linkedin.com/jobs/view/data-analys...\n",
       "Name: 10, dtype: object"
      ]
     },
     "execution_count": 25,
     "metadata": {},
     "output_type": "execute_result"
    }
   ],
   "source": [
    "import pandas as pd\n",
    "import numpy as np\n",
    "df = pd.read_csv('./linkedin-jobs-usa.csv')\n",
    "df.head(30)\n",
    "\n",
    "df.loc[10,:]\n",
    "\n",
    "\n"
   ]
  },
  {
   "cell_type": "code",
   "execution_count": 20,
   "metadata": {},
   "outputs": [
    {
     "data": {
      "text/plain": [
       "2845"
      ]
     },
     "execution_count": 20,
     "metadata": {},
     "output_type": "execute_result"
    }
   ],
   "source": [
    "localizacion = df['location']\n",
    "len(localizacion)\n"
   ]
  },
  {
   "cell_type": "code",
   "execution_count": 19,
   "metadata": {},
   "outputs": [
    {
     "data": {
      "text/plain": [
       "(2845, 9)"
      ]
     },
     "execution_count": 19,
     "metadata": {},
     "output_type": "execute_result"
    }
   ],
   "source": [
    "df.shape\n"
   ]
  }
 ],
 "metadata": {
  "kernelspec": {
   "display_name": "Python 3",
   "language": "python",
   "name": "python3"
  },
  "language_info": {
   "codemirror_mode": {
    "name": "ipython",
    "version": 3
   },
   "file_extension": ".py",
   "mimetype": "text/x-python",
   "name": "python",
   "nbconvert_exporter": "python",
   "pygments_lexer": "ipython3",
   "version": "3.10.5 (tags/v3.10.5:f377153, Jun  6 2022, 16:14:13) [MSC v.1929 64 bit (AMD64)]"
  },
  "orig_nbformat": 4,
  "vscode": {
   "interpreter": {
    "hash": "3eb06009a151591584a8e64b076b6e8b9584003a8eff826d2bd74c5ffbf9e972"
   }
  }
 },
 "nbformat": 4,
 "nbformat_minor": 2
}
